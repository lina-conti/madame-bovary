{
  "nbformat": 4,
  "nbformat_minor": 0,
  "metadata": {
    "colab": {
      "provenance": [],
      "collapsed_sections": [
        "ZgKHfkBwh2LA"
      ]
    },
    "kernelspec": {
      "name": "python3",
      "display_name": "Python 3"
    },
    "accelerator": "GPU",
    "gpuClass": "standard"
  },
  "cells": [
    {
      "cell_type": "markdown",
      "metadata": {
        "id": "uTLyS0rZh9Ql"
      },
      "source": [
        "Goal\n",
        "==\n",
        "We are about to train a *sequence-to-sequence model* to predict a paragraph of Gustave Flaubert's *Madame Bovary* given the preceding paragraph.\n",
        "The model (at least in its first version) does not use words as units of text but characters.\n",
        "\n",
        "*   The encoder part, based on a bidirectional LSTM, reads an input paragraph and turns it into a set of tensors that serves as initial state for the decoder part.\n",
        "*   The decoder part is based on an (unidirectional) LSTM. The state of the LSTM is used to compute a probability distribution over the alphabet (including space and punctuation marks) and is updated each time a character is predicted by the LSTM reading this character's embedding.\n",
        "*   The goal is to get the best model. It is part of the job to define what this means. It is also part of the job to explain me how you get your best model."
      ]
    },
    {
      "cell_type": "markdown",
      "metadata": {
        "id": "ytOCVOAXoO2s"
      },
      "source": [
        "This is an assignment.\n",
        "==\n",
        "\n",
        "*   Work in groups of two or three students.\n",
        "*   Due date: December 12th (Monday), 23:59\n",
        "*   Malus: -1 per day of delay."
      ]
    },
    {
      "cell_type": "markdown",
      "metadata": {
        "id": "qZWD-p9yiECs"
      },
      "source": [
        "Loading PyTorch is important.\n",
        "=="
      ]
    },
    {
      "cell_type": "code",
      "metadata": {
        "id": "An16FNHuhZI1"
      },
      "source": [
        "# Imports PyTorch.\n",
        "import torch"
      ],
      "execution_count": null,
      "outputs": []
    },
    {
      "cell_type": "markdown",
      "source": [
        "Remarks:\n",
        "==\n",
        "*   Follow the instructions very carefully. Do not ignore any comment.\n",
        "*   Comment your code (including the role of all functions and the type of their arguments). A piece of code not appropriately commented can be considered incorrect (irrespectively of whether it works or not).\n",
        "*   Indicate the shape of each tensor that you define.\n",
        "*   Document all the changes that you make. Any work that is not properly explained can be ignored."
      ],
      "metadata": {
        "id": "b8IdgwKsx1P2"
      }
    },
    {
      "cell_type": "markdown",
      "metadata": {
        "id": "TK2oBAYuiZPX"
      },
      "source": [
        "Downloading the dataset\n",
        "==\n",
        "The dataset we are going to use is there: \"https://www.gutenberg.org/cache/epub/14155/pg14155.txt\"\n",
        "\n",
        "We have to pre-process it a little bit in order to remove everything that is not part of the text and to split the actual text into paragraphs."
      ]
    },
    {
      "cell_type": "code",
      "metadata": {
        "id": "0VXDpa1tiSfQ",
        "colab": {
          "base_uri": "https://localhost:8080/"
        },
        "outputId": "3c342caf-28fb-4786-f128-722a9722ffc5"
      },
      "source": [
        "# Downloads the dataset.\n",
        "import urllib\n",
        "\n",
        "#to train on french data change this variable to 'fr'\n",
        "USER_LG = 'fr'\n",
        "\n",
        "#to change between word and character tokenization, change this to 'word' or char'\n",
        "TOKENIZATION = 'word'\n",
        "\n",
        "tmp  =  urllib.request.urlretrieve('https://www.gutenberg.org/cache/epub/67138/pg67138.txt') if USER_LG == 'en' else\\\n",
        "        urllib.request.urlretrieve(\"https://www.gutenberg.org/cache/epub/14155/pg14155.txt\")\n",
        "filename = tmp[0]\n",
        "print(filename)"
      ],
      "execution_count": null,
      "outputs": [
        {
          "output_type": "stream",
          "name": "stdout",
          "text": [
            "/tmp/tmpr0exwptj\n"
          ]
        }
      ]
    },
    {
      "cell_type": "code",
      "metadata": {
        "id": "bU4hirpsiWX2",
        "colab": {
          "base_uri": "https://localhost:8080/"
        },
        "outputId": "e7b40451-2507-4431-9db9-b24dfa7069a8"
      },
      "source": [
        "# Prints the first 200 lines in the file with their line number.\n",
        "# This shows that we have a little bit of preprocessing to do in order to clean the data.\n",
        "with open(filename) as f:\n",
        "  for i in range(20):\n",
        "    print(f\"[{i}] {f.readline()}\", end='')"
      ],
      "execution_count": null,
      "outputs": [
        {
          "output_type": "stream",
          "name": "stdout",
          "text": [
            "[0] ﻿The Project Gutenberg EBook of Madame Bovary, by Gustave Flaubert\n",
            "[1] \n",
            "[2] This eBook is for the use of anyone anywhere at no cost and with\n",
            "[3] almost no restrictions whatsoever.  You may copy it, give it away or\n",
            "[4] re-use it under the terms of the Project Gutenberg License included\n",
            "[5] with this eBook or online at www.gutenberg.org\n",
            "[6] \n",
            "[7] \n",
            "[8] Title: Madame Bovary\n",
            "[9] \n",
            "[10] Author: Gustave Flaubert\n",
            "[11] \n",
            "[12] Release Date: November 26, 2004 [EBook #14155]\n",
            "[13] [Last updated: November 28, 2011]\n",
            "[14] \n",
            "[15] \n",
            "[16] Language: French\n",
            "[17] \n",
            "[18] \n",
            "[19] *** START OF THIS PROJECT GUTENBERG EBOOK MADAME BOVARY ***\n"
          ]
        }
      ]
    },
    {
      "cell_type": "code",
      "metadata": {
        "id": "ctl4Z9Gti-6U",
        "colab": {
          "base_uri": "https://localhost:8080/"
        },
        "outputId": "b941fd3c-ace7-42c9-8483-92731256b615"
      },
      "source": [
        "import re # Regular expression library\n",
        "roman_regex = re.compile('^M{0,4}(CM|CD|D?C{0,3})(XC|XL|L?X{0,3})(IX|IV|V?I{0,3})$') # This regular expression matches Roman numerals but also the empty string.\n",
        "\n",
        "EOP = '\\n' # The end-of-line character will be used to mark the end of paragraphs.\n",
        "END_OF_BOOK = 'THE END' if USER_LG == 'en' else \\\n",
        "              'End of the Project Gutenberg EBook of Madame Bovary, by Gustave Flaubert'\n",
        "\n",
        "with open(filename) as f:\n",
        "  # We want to skip everything before the actual text of the novel.\n",
        "  # The line \"PREMIÈRE PARTIE\" appears twice: in the table of content and then at the start of the first part of the actual text.\n",
        "  # The following lines discard everything up to this second occurence (included).\n",
        "  skip = 2\n",
        "  while(skip > 0):\n",
        "    line = f.readline().strip()\n",
        "    # The two langauges have different preprocessing needs, but since they're in different langauge we don't need to worry about overlap\n",
        "    if(line == \"BOOK I\"): skip -= 2\n",
        "    if(line.startswith('PREMIÈRE PARTIE')): skip -=1 \n",
        "\n",
        "  paragraphs = [] # Note that each dialog line will be considered a separate paragraph.\n",
        "  paragraph_buffer = [] # List[str]; each element corresponds to a line in the original text file + an additonal space if necessary.\n",
        "  while(True):\n",
        "    line = f.readline().strip()\n",
        "    if(line == \"End of the Project Gutenberg EBook of Madame Bovary, by Gustave Flaubert\"): break # End of the actual text (fr).\n",
        "    if(line == END_OF_BOOK): break # End of the actual text (en).\n",
        "\n",
        "    if(line == \"\"): # We've reached the end of a paragraph.\n",
        "      if(len(paragraph_buffer) > 0):\n",
        "        paragraph_buffer.append(EOP) # End of the paragraph.\n",
        "\n",
        "        paragraph = \"\".join(paragraph_buffer) # The different lines that make up the paragraph are joined into a single string.\n",
        "        paragraphs.append(paragraph)\n",
        "        paragraph_buffer = []\n",
        "      continue\n",
        "\n",
        "    if(roman_regex.match(line)): continue # Ignores the lines that indicate the beginning of a chapter.\n",
        "    if(line.endswith(\" PARTIE\") or line.startswith(\"CHAPTER\") or line.startswith(\"BOOK\") or len(line.strip()) == 1): continue # Ignores the lines that indicate the beginning of a part.\n",
        "\n",
        "    if((len(paragraph_buffer) > 0) and (paragraph_buffer[-1][-1] != '-')): paragraph_buffer.append(' ') # Adds a space between consecutive lines except when the first one ends with \"-\" (e.g. if the word \"pomme-de-terre\" is split with \"pomme-de-\" at the end of a line and \"terre\" at the beginning of the next, we do not want to join the two lines with a space).\n",
        "    paragraph_buffer.append(line)\n",
        "\n",
        "print(f\"{len(paragraphs)} paragraphs read.\")\n",
        "for i in range(3): print(paragraphs[i], end='')"
      ],
      "execution_count": null,
      "outputs": [
        {
          "output_type": "stream",
          "name": "stdout",
          "text": [
            "2995 paragraphs read.\n",
            "Nous étions à l'Étude, quand le Proviseur entra, suivi d'un nouveau habillé en bourgeois et d'un garçon de classe qui portait un grand pupitre. Ceux qui dormaient se réveillèrent, et chacun se leva comme surpris dans son travail.\n",
            "Le Proviseur nous fit signe de nous rasseoir; puis, se tournant vers le maître d'études:\n",
            "-- Monsieur Roger, lui dit-il à demi-voix, voici un élève que je vous recommande, il entre en cinquième. Si son travail et sa conduite sont méritoires, il passera dans les grands, où l'appelle son âge.\n"
          ]
        }
      ]
    },
    {
      "cell_type": "code",
      "metadata": {
        "id": "PAn1SqQE1Hr-",
        "colab": {
          "base_uri": "https://localhost:8080/"
        },
        "outputId": "2d994f5b-ebe1-47b7-89a3-b3683d58f29a"
      },
      "source": [
        "import collections\n",
        "import numpy as np\n",
        "\n",
        "# Computes the frequency of all characters in the dataset.\n",
        "char_counts = collections.defaultdict(int)\n",
        "for paragraph in paragraphs:\n",
        "  for char in paragraph: char_counts[char] += 1\n",
        "\n",
        "print(f\"{len(char_counts)} different characters found in the dataset.\")\n",
        "print(sorted(char_counts.items(), key=(lambda x: x[1]), reverse=True)) # Shows each character with its frequency, in decreasing frequency order."
      ],
      "execution_count": null,
      "outputs": [
        {
          "output_type": "stream",
          "name": "stdout",
          "text": [
            "94 different characters found in the dataset.\n",
            "[(' ', 109336), ('e', 76369), ('a', 44997), ('s', 42972), ('t', 38893), ('i', 38322), ('n', 35099), ('r', 34314), ('l', 33711), ('u', 32914), ('o', 27415), ('d', 19187), ('c', 14786), ('m', 14638), ('p', 13790), (',', 12378), ('v', 8441), ('é', 8263), (\"'\", 7451), ('.', 6225), ('b', 5519), ('q', 5455), ('f', 5406), ('h', 5386), ('g', 4704), ('-', 4243), ('\\n', 2995), ('à', 2722), ('x', 2057), ('j', 1728), ('è', 1644), ('y', 1619), ('!', 1512), ('E', 1477), (';', 1425), ('ê', 1188), ('L', 981), ('C', 945), ('I', 769), ('M', 743), ('z', 674), ('A', 543), ('?', 530), (':', 480), ('ç', 470), ('B', 427), ('â', 410), ('P', 394), ('î', 327), ('R', 319), ('D', 313), ('O', 301), ('S', 298), ('ô', 296), ('ù', 293), ('H', 270), ('û', 241), ('Q', 237), ('J', 233), ('T', 211), ('V', 181), ('N', 155), ('U', 122), ('«', 120), ('»', 112), ('À', 84), ('F', 84), ('Y', 80), ('_', 64), ('G', 62), ('(', 55), (')', 55), ('ï', 37), ('É', 25), ('k', 16), ('1', 16), ('ë', 9), ('2', 8), ('9', 8), ('3', 8), ('Ç', 7), ('X', 6), ('6', 6), ('5', 5), ('4', 5), ('ü', 5), ('8', 4), ('Ê', 4), ('°', 4), ('W', 3), ('7', 3), ('w', 2), ('0', 1), ('Î', 1)]\n"
          ]
        }
      ]
    },
    {
      "cell_type": "code",
      "metadata": {
        "id": "nF0YFZTxD_A0"
      },
      "source": [
        "# Here you have to build a dictionary 'char_vocabulary' that assigns an integer id to each character, along with a list/array 'id_to_char' that implements the reverse mapping.\n",
        "#################\n",
        "id_to_char = list({char for paragraph in paragraphs for char in paragraph})\n",
        "char_vocabulary = {char:id for id, char in enumerate(id_to_char)}\n",
        "#################"
      ],
      "execution_count": null,
      "outputs": []
    },
    {
      "cell_type": "code",
      "metadata": {
        "id": "C71VlK5e3Gg4",
        "colab": {
          "base_uri": "https://localhost:8080/"
        },
        "outputId": "e92d3830-73c6-4970-803e-4b783cf39bb4"
      },
      "source": [
        "EOP_id = char_vocabulary[EOP] # Id for the end-of-paragraph symbol\n",
        "\n",
        "print(char_vocabulary)\n",
        "print(id_to_char)\n",
        "print(len(id_to_char))\n",
        "print(f\"EOP_id = {EOP_id}\")\n",
        "\n",
        "# Here you have to implement a test that proves that your implementations of 'char_vocabulary' and 'id_to_char' are consistent.\n",
        "#################\n",
        "# Test 1\n",
        "# Checks whether every character in id_to_char is mapped to its index in char_vocabulary\n",
        "for i in range(len(id_to_char)):\n",
        "  assert char_vocabulary[id_to_char[i]] == i\n",
        "\n",
        "# Test 2\n",
        "# Checks whether a string can be encoded and decoded and not change\n",
        "test = [char_vocabulary[char] for char in 'this is \\na test']\n",
        "print(test)\n",
        "print(''.join([id_to_char[id] for id in test]))\n",
        "for id, char in enumerate(id_to_char): \n",
        "  if char_vocabulary[char] != id: print(f'ERROR: {char} mapped to {id} and {char_vocabulary[char]}')\n",
        "#################"
      ],
      "execution_count": null,
      "outputs": [
        {
          "output_type": "stream",
          "name": "stdout",
          "text": [
            "{'E': 0, 'Î': 1, \"'\": 2, 'T': 3, '7': 4, 'p': 5, 'e': 6, 'Ç': 7, '4': 8, '0': 9, 'Ê': 10, ',': 11, 'ï': 12, '(': 13, 'A': 14, 'L': 15, 'o': 16, 'è': 17, 'g': 18, 'ç': 19, ' ': 20, '«': 21, 't': 22, 'r': 23, 'W': 24, '°': 25, 'G': 26, '8': 27, 'ê': 28, 'O': 29, 'J': 30, '2': 31, 'k': 32, 'R': 33, 'h': 34, 'c': 35, 'ë': 36, 'N': 37, ';': 38, 'a': 39, 'û': 40, 'D': 41, 'X': 42, 'U': 43, 'f': 44, 'P': 45, 'â': 46, ':': 47, 'É': 48, 'Q': 49, '1': 50, 'n': 51, 'ô': 52, 'j': 53, 'q': 54, '»': 55, 'I': 56, '\\n': 57, 'ü': 58, 'd': 59, 'V': 60, 'b': 61, 'y': 62, 'z': 63, 'M': 64, 'À': 65, 'v': 66, 'é': 67, 'C': 68, 'B': 69, '3': 70, 'w': 71, 'à': 72, ')': 73, '.': 74, '6': 75, 'i': 76, 'm': 77, '5': 78, 'ù': 79, 's': 80, 'H': 81, '-': 82, 'î': 83, 'u': 84, 'F': 85, 'Y': 86, '_': 87, 'S': 88, '?': 89, 'l': 90, '9': 91, 'x': 92, '!': 93}\n",
            "['E', 'Î', \"'\", 'T', '7', 'p', 'e', 'Ç', '4', '0', 'Ê', ',', 'ï', '(', 'A', 'L', 'o', 'è', 'g', 'ç', ' ', '«', 't', 'r', 'W', '°', 'G', '8', 'ê', 'O', 'J', '2', 'k', 'R', 'h', 'c', 'ë', 'N', ';', 'a', 'û', 'D', 'X', 'U', 'f', 'P', 'â', ':', 'É', 'Q', '1', 'n', 'ô', 'j', 'q', '»', 'I', '\\n', 'ü', 'd', 'V', 'b', 'y', 'z', 'M', 'À', 'v', 'é', 'C', 'B', '3', 'w', 'à', ')', '.', '6', 'i', 'm', '5', 'ù', 's', 'H', '-', 'î', 'u', 'F', 'Y', '_', 'S', '?', 'l', '9', 'x', '!']\n",
            "94\n",
            "EOP_id = 57\n",
            "[22, 34, 76, 80, 20, 76, 80, 20, 57, 39, 20, 22, 6, 80, 22]\n",
            "this is \n",
            "a test\n"
          ]
        }
      ]
    },
    {
      "cell_type": "code",
      "metadata": {
        "id": "8bc3Gst0zhQv"
      },
      "source": [
        "# Turns a list of lists of ids into a list of strings.\n",
        "# Do not forget that an occurrence of EOP means that the paragraph ends here.\n",
        "def ids_to_texts(ids, decoding_map, end_tok_id, word_tokens = False):\n",
        "  # Here you have to turn each list of character ids of 'ids' into a string and then return all strings as a list.\n",
        "  # the decoding map maps integer ids to tokens \n",
        "  # word_tokens is a boolean indicating whether we are using words or characters\n",
        "  # end_tok_id is the id of the token that marks the end of a paragraph\n",
        "  #################\n",
        "  decoded_strings = []\n",
        "  join_string = ' ' if word_tokens else ''\n",
        "\n",
        "  for sequence in ids:\n",
        "    if isinstance(sequence, torch.Tensor): sequence = sequence.tolist() \n",
        "    if end_tok_id in sequence: sequence = sequence[:sequence.index(end_tok_id)]\n",
        "    decoded_strings.append(join_string.join([decoding_map[tok] for tok in sequence]).strip())\n",
        "\n",
        "  return decoded_strings\n",
        "  #return[join_string.join([decoding_map[tok] for tok in paragraph]) for paragraph in ids]\n",
        "  \n",
        "  #################"
      ],
      "execution_count": null,
      "outputs": []
    },
    {
      "cell_type": "code",
      "metadata": {
        "id": "ybAhzb4_3RTk",
        "colab": {
          "base_uri": "https://localhost:8080/"
        },
        "outputId": "c008a54c-52cc-460a-dfbb-f65e5e7ad253"
      },
      "source": [
        "ps = [\"Bonjour.\", \"Comment allez vous ?\"]\n",
        "ids = [[char_vocabulary[c] for c in p] for p in ps]\n",
        "print(ids)\n",
        "print(ids_to_texts(ids, id_to_char, EOP_id))\n",
        "print(f\"'ids_to_texts(ids) == ps' should be True: {ids_to_texts(ids, id_to_char, EOP_id) == ps}\")"
      ],
      "execution_count": null,
      "outputs": [
        {
          "output_type": "stream",
          "name": "stdout",
          "text": [
            "[[69, 16, 51, 53, 16, 84, 23, 74], [68, 16, 77, 77, 6, 51, 22, 20, 39, 90, 90, 6, 63, 20, 66, 16, 84, 80, 20, 89]]\n",
            "['Bonjour.', 'Comment allez vous ?']\n",
            "'ids_to_texts(ids) == ps' should be True: True\n"
          ]
        }
      ]
    },
    {
      "cell_type": "code",
      "metadata": {
        "id": "ZnT7T-yHEPCh",
        "colab": {
          "base_uri": "https://localhost:8080/"
        },
        "outputId": "a87a031f-26e4-4cd9-d6d0-b0d22090457d"
      },
      "source": [
        "ps = [\"Bonjour.\", \"Comment allez vous ?\"]\n",
        "ids = [[char_vocabulary[c] for c in p] for p in ps]\n",
        "ids[0].extend([EOP_id, (EOP_id+1), (EOP_id+1)]) # With the end-of-paragraph token id and additional (padding-like) stuff for the first string.\n",
        "print(ids)\n",
        "print(ids_to_texts(ids, id_to_char, EOP_id))\n",
        "print(f\"'ids_to_texts(ids) == ps' should be True: {ids_to_texts(ids, id_to_char, EOP_id) == ps}\")"
      ],
      "execution_count": null,
      "outputs": [
        {
          "output_type": "stream",
          "name": "stdout",
          "text": [
            "[[69, 16, 51, 53, 16, 84, 23, 74, 57, 58, 58], [68, 16, 77, 77, 6, 51, 22, 20, 39, 90, 90, 6, 63, 20, 66, 16, 84, 80, 20, 89]]\n",
            "['Bonjour.', 'Comment allez vous ?']\n",
            "'ids_to_texts(ids) == ps' should be True: True\n"
          ]
        }
      ]
    },
    {
      "cell_type": "markdown",
      "source": [
        "# Alternative tokenization: words\n",
        "\n",
        "Alternatively, the corpus can be tokenized into words instead of characters. The choice between the two is done at the start of the notebook."
      ],
      "metadata": {
        "id": "4pfYvoFPs7K-"
      }
    },
    {
      "cell_type": "code",
      "source": [
        "#installing a preprocessor \n",
        "!pip install polyglot\n",
        "!pip install pyicu\n",
        "!pip install pycld2\n",
        "!pip install morfessor\n",
        "\n",
        "from polyglot.text import Text\n",
        "from polyglot.detect.base import logger as polyglot_logger\n",
        "polyglot_logger.setLevel(\"ERROR\")"
      ],
      "metadata": {
        "colab": {
          "base_uri": "https://localhost:8080/"
        },
        "id": "9lkyuvhmoSp5",
        "outputId": "513f1d11-6ecd-4a8f-f1dc-eb3b10fae753"
      },
      "execution_count": null,
      "outputs": [
        {
          "output_type": "stream",
          "name": "stdout",
          "text": [
            "Looking in indexes: https://pypi.org/simple, https://us-python.pkg.dev/colab-wheels/public/simple/\n",
            "Requirement already satisfied: polyglot in /usr/local/lib/python3.8/dist-packages (16.7.4)\n",
            "Looking in indexes: https://pypi.org/simple, https://us-python.pkg.dev/colab-wheels/public/simple/\n",
            "Requirement already satisfied: pyicu in /usr/local/lib/python3.8/dist-packages (2.10.2)\n",
            "Looking in indexes: https://pypi.org/simple, https://us-python.pkg.dev/colab-wheels/public/simple/\n",
            "Requirement already satisfied: pycld2 in /usr/local/lib/python3.8/dist-packages (0.41)\n",
            "Looking in indexes: https://pypi.org/simple, https://us-python.pkg.dev/colab-wheels/public/simple/\n",
            "Requirement already satisfied: morfessor in /usr/local/lib/python3.8/dist-packages (2.0.6)\n"
          ]
        }
      ]
    },
    {
      "cell_type": "code",
      "source": [
        "# Computes the frequency of all words in the dataset.\n",
        "word_counts = collections.defaultdict(int)\n",
        "for paragraph in paragraphs:\n",
        "  for word in Text(paragraph).words: word_counts[word] += 1\n",
        "\n",
        "\n",
        "print(f\"{len(word_counts)} different words found in the dataset.\")\n",
        "print(sorted(word_counts.items(), key=(lambda x: x[1]), reverse=True)[:10]) # Shows top 10 words, in decreasing frequency order.\n",
        "\n",
        "# Building the word to id and vice versa \n",
        "id_to_word = list({word for paragraph in paragraphs for word in Text(paragraph).words})\n",
        "word_vocabulary = {word:id for id, word in enumerate(id_to_word)}\n",
        "\n",
        "# Need to manually add unknown word token and stop token (\\n is automatically removed by pretokenization for words)\n",
        "word_vocabulary['<unk>'] = len(id_to_word)\n",
        "id_to_word.append('<unk>')\n",
        "word_vocabulary['EOP'] = len(id_to_word)\n",
        "id_to_word.append('EOP')\n",
        "word_EOP_id = word_vocabulary['EOP']"
      ],
      "metadata": {
        "colab": {
          "base_uri": "https://localhost:8080/"
        },
        "id": "ACKKp7sss57y",
        "outputId": "e0d7b04b-83ba-49be-80a8-6f6d4046f3ed"
      },
      "execution_count": null,
      "outputs": [
        {
          "output_type": "stream",
          "name": "stdout",
          "text": [
            "14770 different words found in the dataset.\n",
            "[(',', 12378), ('.', 6225), ('de', 4396), ('-', 4243), ('la', 3237), ('et', 2525), ('à', 2337), ('le', 2172), ('les', 2157), ('des', 1611)]\n"
          ]
        }
      ]
    },
    {
      "cell_type": "code",
      "source": [
        "# Testing encoding and decoding \n",
        "test = [word_vocabulary[word] if word in id_to_word else word_vocabulary['<unk>'] for word in Text('this is \\na test').words]\n",
        "print(test)\n",
        "print(' '.join([id_to_word[id] for id in test]))\n",
        "for id, word in enumerate(id_to_word): \n",
        "  if word_vocabulary[word] != id: print(f'ERROR: {word} mapped to {id} and {word_vocabulary[word]}')\n",
        "\n",
        "\n",
        "# Testing ids_to_text for word tokenization \n",
        "ps = [\"Hello .\", \"How are you ?\"] if USER_LG == 'en' else [\"Bonjour .\", \"Comment allez vous ?\"] \n",
        "ids = [[word_vocabulary[w] if w in id_to_word else word_vocabulary['<unk>'] for w in Text(p).words] for p in ps]\n",
        "ids[0].extend([word_EOP_id, (word_EOP_id+1), (word_EOP_id+1)]) # With the end-of-paragraph token id and additional (padding-like) stuff for the first string.\n",
        "print(ids)\n",
        "print(word_EOP_id)\n",
        "print(ids_to_texts(ids, id_to_word,word_EOP_id, word_tokens=True ))\n",
        "print(ps)\n",
        "print(f\"'ids_to_texts(ids) == ps' should be True: {ids_to_texts(ids, id_to_word,word_EOP_id, word_tokens=True) == ps}\")"
      ],
      "metadata": {
        "colab": {
          "base_uri": "https://localhost:8080/"
        },
        "id": "dbKiuOr6o2F-",
        "outputId": "c68935a3-98be-4054-f26f-9e4d315c5a96"
      },
      "execution_count": null,
      "outputs": [
        {
          "output_type": "stream",
          "name": "stdout",
          "text": [
            "[14770, 13233, 4552, 14770]\n",
            "<unk> is a <unk>\n",
            "[[10784, 5809, 14771, 14772, 14772], [13787, 4396, 9999, 3289]]\n",
            "14771\n",
            "['Bonjour .', 'Comment allez vous ?']\n",
            "['Bonjour .', 'Comment allez vous ?']\n",
            "'ids_to_texts(ids) == ps' should be True: True\n"
          ]
        }
      ]
    },
    {
      "cell_type": "markdown",
      "source": [
        "# Setting the tokenization strategy for the rest of the notebook"
      ],
      "metadata": {
        "id": "1QQl6rrvo57c"
      }
    },
    {
      "cell_type": "code",
      "source": [
        "# Sets everything according to the user's choice for tokenization strategy\n",
        "\n",
        "if TOKENIZATION == 'char': \n",
        "  paragraphs    = paragraphs\n",
        "  encoding_map  = char_vocabulary \n",
        "  decoding_map  = id_to_char\n",
        "  END_id        = EOP_id\n",
        "  word_tokens   = False\n",
        "\n",
        "elif TOKENIZATION == 'word': \n",
        "  paragraphs    = [Text(paragraph+' EOP').words for paragraph in paragraphs]\n",
        "  encoding_map  = word_vocabulary\n",
        "  decoding_map  = id_to_word\n",
        "  END_id        = word_EOP_id\n",
        "  word_tokens   = True\n",
        "\n",
        "else: \n",
        "  print('invalid tokenization, please check TOKENIZATION variable in cell 1')"
      ],
      "metadata": {
        "id": "Wpg0A3iLo3tt"
      },
      "execution_count": null,
      "outputs": []
    },
    {
      "cell_type": "markdown",
      "metadata": {
        "id": "SBuCiGqO08nd"
      },
      "source": [
        "Batch generator\n",
        "=="
      ]
    },
    {
      "cell_type": "code",
      "metadata": {
        "id": "aoH4g-Fkkrgc",
        "colab": {
          "base_uri": "https://localhost:8080/"
        },
        "outputId": "070641da-0af2-4892-ac67-f0fdbe412ce3"
      },
      "source": [
        "# Defines a class of objects that produce batches from the dataset.\n",
        "# A training instance is composed of a pair of consecutive paragraphs. The goal will be to predict the second given the first.\n",
        "# (Possible improvement: As is, ends of chapter are completely ignored: the last paragraph of a chapter and the first of the following chapter form a training instance. We might want to predict the end of the chapter instead, or simply remove these pairs from the dataset.)\n",
        "class BatchGenerator:\n",
        "  def __init__(self, paragraphs, vocabulary, test_size = .15):\n",
        "    self.paragraphs = paragraphs\n",
        "    self.vocabulary = vocabulary # Dictionary\n",
        "    self.padding_idx = len(vocabulary)\n",
        "    self.indices = np.arange(len(paragraphs)-1)\n",
        "\n",
        "    self.splits = {}  # dictionary containing the indices of the examples in each split\n",
        "    self._data_split(test_size)\n",
        "\n",
        "  \n",
        "  # Returns the number of training instances (i.e. of pairs of consecutive paragraphs).\n",
        "  def length(self):\n",
        "    return (len(self.paragraphs) - 1)\n",
        "\n",
        "  def _data_split(self, test_size):\n",
        "    '''\n",
        "    Shuffles the indices and splits them into a train, dev and test set\n",
        "    test_size: indicates the proportion of the data that should go in the test set (the same for the dev set)\n",
        "    it is a float between 0. and 1.\n",
        "    '''\n",
        "    np.random.shuffle(self.indices)\n",
        "    partition             = int(len(self.indices)*test_size)\n",
        "    self.splits['test']   = self.indices[:partition]\n",
        "    self.splits['dev']    = self.indices[partition:2*partition]\n",
        "    self.splits['train']  = self.indices[2*partition:]\n",
        "\n",
        "  # Returns a random training batch (composed of pairs of consecutive paragraphs).\n",
        "  # We removed the `subset` option for this function, for debugging purposes, use a small dev or test set.\n",
        "  def get_batch(self, batch_size, split = 'train'):\n",
        "    # split: split to sample the batch from ('train', 'dev' or 'test', default='train')\n",
        "    \n",
        "    # Randomly picks some paragraph ids from the relevant split\n",
        "    paragraph_ids = np.random.choice(self.splits[split], size=batch_size, replace = False) \n",
        "\n",
        "    return self._ids_to_batch(paragraph_ids)\n",
        "\n",
        "  def _ids_to_batch(self, paragraph_ids):\n",
        "    firsts = [] # First paragraph of each pair\n",
        "    seconds = [] # Second paragraph of each pair\n",
        "    for paragraph_id in paragraph_ids:\n",
        "      firsts.append([self.vocabulary[char] for char in self.paragraphs[paragraph_id]])\n",
        "      seconds.append([self.vocabulary[char] for char in self.paragraphs[paragraph_id + 1]])\n",
        "      \n",
        "    # Padding\n",
        "    self.pad(firsts)\n",
        "    self.pad(seconds)\n",
        "\n",
        "    firsts = torch.tensor(firsts, dtype=torch.long) # Conversion to a tensor\n",
        "    seconds = torch.tensor(seconds, dtype=torch.long) # Conversion to a tensor\n",
        "\n",
        "    return (firsts, seconds)\n",
        "  \n",
        "  # Pads a list of lists (i.e. adds fake word ids so that all sequences in the batch have the same length, so that we can use a matrix to represent them).\n",
        "  # In place\n",
        "  def pad(self, sequences):\n",
        "    max_length = max([len(s) for s in sequences])\n",
        "    for s in sequences: s.extend([self.padding_idx] * (max_length - len(s)))\n",
        "  \n",
        "  # Returns a generator of training batches for a full epoch.\n",
        "  # If `subset` is an integer, only a subset of the corpus is used. This can be useful to debug the system.\n",
        "  def all_batches(self, batch_size, subset=None, split = 'train'):\n",
        "    # split: split to sample the batch from ('train', 'dev' or 'test', default='train')\n",
        "    max_i = len(self.splits[split]) if(subset is None) else min(subset, len(self.splits[split]))\n",
        "\n",
        "    # Loop that generates all full batches (batches of size 'batch_size').\n",
        "    i = 0\n",
        "    while((i + batch_size) <= max_i):\n",
        "      instance_ids = self.splits[split][i:i+batch_size]\n",
        "      yield self._ids_to_batch(instance_ids)\n",
        "      i += batch_size\n",
        "    \n",
        "    # Possibly generates the last (not full) batch.\n",
        "    if(i < max_i):\n",
        "      instance_ids = self.splits[split][i:max_i]\n",
        "      yield self._ids_to_batch(instance_ids)\n",
        "  \n",
        "  # Turns a list of arbitrary paragraphs into a prediction batch.\n",
        "  def turn_into_batch(self, paragraphs):\n",
        "    firsts = []\n",
        "    for paragraph in paragraphs:\n",
        "        # Unknown characters are ignored (removed).\n",
        "        tmp = []\n",
        "        for char in paragraph:\n",
        "          if(char in self.vocabulary): tmp.append(self.vocabulary[char])\n",
        "\n",
        "        if(tmp[-1] != EOP_id): tmp.append(EOP_id) # Adds an end-of-paragraph character if necessary.\n",
        "\n",
        "        firsts.append(tmp)\n",
        "    \n",
        "    self.pad(firsts)\n",
        "    return torch.tensor(firsts, dtype=torch.long)\n",
        "\n",
        "batch_generator = BatchGenerator(paragraphs=paragraphs, vocabulary=encoding_map)\n",
        "print(batch_generator.length())"
      ],
      "execution_count": null,
      "outputs": [
        {
          "output_type": "stream",
          "name": "stdout",
          "text": [
            "2994\n"
          ]
        }
      ]
    },
    {
      "cell_type": "code",
      "source": [
        "(firsts, seconds) = batch_generator.get_batch(3)\n",
        "print(ids_to_texts(firsts, decoding_map, END_id, word_tokens))\n",
        "print(ids_to_texts(seconds, decoding_map, END_id, word_tokens))"
      ],
      "metadata": {
        "colab": {
          "base_uri": "https://localhost:8080/"
        },
        "id": "0IsUaokNgdrN",
        "outputId": "f7ed644e-286e-4174-f732-21fbb722ab5b"
      },
      "execution_count": null,
      "outputs": [
        {
          "output_type": "stream",
          "name": "stdout",
          "text": [
            "[\"- - C'est extraordinaire ! c'est singulier ! répéta - t - il .\", \"Emma mit un châle sur ses épaules , ouvrit la fenêtre et s'accouda .\", \"Nous étions à l'Étude , quand le Proviseur entra , suivi d'un nouveau habillé en bourgeois et d'un garçon de classe qui portait un grand pupitre . Ceux qui dormaient se réveillèrent , et chacun se leva comme surpris dans son travail .\"]\n",
            "[\"Mais elle dit d'une voix forte :\", \"La nuit était noire . Quelques gouttes de pluie tombaient . Elle aspira le vent humide qui lui rafraîchissait les paupières . La musique du bal bourdonnait encore à ses oreilles , et elle faisait des efforts pour se tenir éveillée , afin de prolonger l'illusion de cette vie luxueuse qu'il lui faudrait tout à l'heure abandonner .\", \"Le Proviseur nous fit signe de nous rasseoir ; puis , se tournant vers le maître d'études :\"]\n"
          ]
        }
      ]
    },
    {
      "cell_type": "markdown",
      "metadata": {
        "id": "Tv1Z1s-cQWiT"
      },
      "source": [
        "The model\n",
        "==\n",
        "For this model, we will not define a `forward` method, but two methods: `trainingLogits` and `predictionStrings`.\n",
        "\n",
        "*    `trainingLogits` is used at training time, when each batch is split in two parts: input paragraphs and output paragraphs. This function outputs, for each output paragraph of the batch, a log-probability distribution (i.e. a vector of \"logits\") before each token and after the last one. These distributions depend on the encoding of the corresponding input paragraph. They will then be used to compute a loss value.\n",
        "*    `predictionStrings` is used at prediction time, when each batch is only composed of input paragraphs. This function outputs, for each input paragraph, a string obtained by decoding the encoding of the paragraph.\n",
        "\n",
        "(Don't forget to read carefully all comments and to make sure that you understand them.)"
      ]
    },
    {
      "cell_type": "code",
      "metadata": {
        "id": "tKfRCXQOOm8X"
      },
      "source": [
        "class Model(torch.nn.Module):\n",
        "  # 'size_vocabulary' does not include a padding character, but does include the end-of-paragraph one.\n",
        "  def __init__(self, size_vocabulary, EOP_id, embedding_dim, lstm_hidden_size, lstm_layers, device='cpu'):\n",
        "    super().__init__()\n",
        "\n",
        "    self.device = device\n",
        "\n",
        "    self.EOP_id = EOP_id # At prediction time, this index is used to stop the generation at the end of the paragraph.\n",
        "\n",
        "    # Here you have to define:\n",
        "    #  (i) an embedding layer 'self.char_embeddings' with 'torch.nn.Embedding' for the characters, including an padding embedding;\n",
        "    #  (ii) a bidirectional LSTM 'self.encoder_lstm' with a hidden size of 'lstm_hidden_size' and 'lstm_layers' layers (use batch_first=True);\n",
        "    #  (iii) a unidirectional LSTM 'self.decoder_lstm' with a hidden size of 'lstm_hidden_size' and 'lstm_layers' layers (use batch_first=True);\n",
        "    #  (iv) a network 'self.decoder_initialiser' meant to turn the final hidden and cell states of the encoder into the initial hidden and cell states of the decoder;\n",
        "    #  (v) a network 'self.distribution_nn' meant to turn the hidden state of the decoder at each step into the logits of a probability distribution over the vocabulary. The logits of a probability distribution are simply the log-probabilities (you might want to use torch.nn.LogSoftmax).\n",
        "    # Send all parts to 'device', so that we can use a GPU.\n",
        "    #################\n",
        "    self.size_vocabulary      = size_vocabulary\n",
        "\n",
        "    # (i)\n",
        "    self.char_embeddings      = torch.nn.Embedding(size_vocabulary+1, embedding_dim, padding_idx = size_vocabulary)\n",
        "\n",
        "    # (ii)\n",
        "    self.encoder_lstm         = torch.nn.LSTM(input_size            = embedding_dim, \n",
        "                                          hidden_size           = lstm_hidden_size,\n",
        "                                          batch_first           = True, \n",
        "                                          bidirectional         = True, \n",
        "                                          num_layers            = lstm_layers\n",
        "                                          )\n",
        "\n",
        "    # (iii)\n",
        "    self.decoder_lstm         = torch.nn.LSTM(input_size        = embedding_dim, \n",
        "                                          hidden_size           = lstm_hidden_size,\n",
        "                                          batch_first           = True, \n",
        "                                          bidirectional         = False, \n",
        "                                          num_layers            = lstm_layers\n",
        "                                          )\n",
        "    \n",
        "    # (iv)\n",
        "    self.decoder_initialiser  = torch.nn.Linear(2*lstm_hidden_size, lstm_hidden_size)\n",
        "\n",
        "    # (v)\n",
        "    self.distribution_nn      = torch.nn.Linear(in_features = lstm_hidden_size, \n",
        "                                                out_features = size_vocabulary)\n",
        "\n",
        "    self.to(device) # sends the model to GPU if using\n",
        "    #################\n",
        "\n",
        "  # 'in_paragraphs' is a matrix (batch size, max in length) of character ids (Integer).\n",
        "  # You might want to understand what is the output of PyTorch's LSTMs: https://pytorch.org/docs/stable/generated/torch.nn.LSTM.html\n",
        "  def initStates(self, in_paragraphs):\n",
        "    batch_size = in_paragraphs.size(0)\n",
        "\n",
        "    in_char_embeddings = self.char_embeddings(in_paragraphs) # Shape: (batch_size, max length, embedding size)\n",
        "    #print(in_char_embeddings); print(in_char_embeddings.shape)\n",
        "    in_lengths = (in_paragraphs != self.char_embeddings.padding_idx).sum(axis=1) # Shape: (batch_size)\n",
        "    #print(in_lengths); print(in_lengths.shape)\n",
        "    in_char_embeddings = torch.nn.utils.rnn.pack_padded_sequence(input=in_char_embeddings, lengths=in_lengths.cpu(), batch_first=True, enforce_sorted=False) # Enables the LSTM to ignore padding elements.\n",
        "\n",
        "    # The input paragraphs are encoded; the final hidden and cell states of the network will be used to initialise the decoder after a little transformation.\n",
        "    _, (h_n, c_n) = self.encoder_lstm(in_char_embeddings) # 'h_n' and 'c_n' are both of shape (num_layers * 2, batch_size, hidden_size)\n",
        "\n",
        "    # Concatenates the left-to-right and right-to-left final hidden states of the biLSTM.\n",
        "    h_n = h_n.view(self.encoder_lstm.num_layers, 2, batch_size, self.encoder_lstm.hidden_size) # The second dimension (of size 2) of this tensor corresponds to left-to-right (0) and right-to-left (1).\n",
        "    #print(h_n); print(h_n.shape)\n",
        "    lr_h_n = h_n[:,0] # left-to-right; shape: (num_layers, batch_size, hidden_size)\n",
        "    rl_h_n = h_n[:,1] # right-to-left; shape: (num_layers, batch_size, hidden_size)\n",
        "    bi_h_n = torch.cat([lr_h_n, rl_h_n], axis=2) # Shape: (num_layers, batch_size, (2 * hidden_size))\n",
        "    #print(bi_h_n); print(bi_h_n.shape)\n",
        "\n",
        "    # Concatenates the left-to-right and right-to-left final cell states of the biLSTM.\n",
        "    c_n = c_n.view(self.encoder_lstm.num_layers, 2, batch_size, self.encoder_lstm.hidden_size) # The second dimension (of size 2) of this tensor corresponds to left-to-right (0) and right-to-left (1).\n",
        "    #print(c_n); print(c_n.shape)\n",
        "    lr_c_n = c_n[:,0] # left-to-right; shape: (num_layers, batch_size, hidden_size)\n",
        "    rl_c_n = c_n[:,1] # right-to-left; shape: (num_layers, batch_size, hidden_size)\n",
        "    bi_c_n = torch.cat([lr_c_n, rl_c_n], axis=2) # Shape: (num_layers, batch_size, (2 * hidden_size))\n",
        "    #print(bi_c_n); print(bi_c_n.shape)\n",
        "\n",
        "    # What should be the shape of the two tensors of the following pair? Answer: num_layers x batch_size x lstm_hidden_size \n",
        "    return (self.decoder_initialiser(bi_h_n), self.decoder_initialiser(bi_c_n))\n",
        "  \n",
        "  # Training time: This function outputs the logits for each time step.\n",
        "  # Do not forget the distribution for the first character.\n",
        "  # 'in_paragraphs' is a matrix (batch size, max in length) of character ids (Integer).\n",
        "  # 'out_paragraphs' is a matrix (batch size, max out length) of character ids (Integer) at training time. Assume it does not include the final end-of-paragraph character.\n",
        "  # You might want to understand what is the output of PyTorch's LSTMs: https://pytorch.org/docs/stable/generated/torch.nn.LSTM.html\n",
        "  def trainingLogits(self, in_paragraphs, out_paragraphs):\n",
        "    #init h and init c are both size (num_layers x batch_size x lstm_hidden_size)\n",
        "    decoder_init_h, decoder_init_c = self.initStates(in_paragraphs) # These tensors are not only used to initialise the decoder but also (for the first tensor) to compute the probability distributions for the first character.\n",
        "\n",
        "    # Feed a packed sequence to the decoder (use 'torch.nn.utils.rnn.pack_padded_sequence' and 'torch.nn.utils.rnn.pad_packed_sequence').\n",
        "    # You don't need to implement a loop, because at training time, you know in advance the decisions of the system (i.e. the tokens that are generated).\n",
        "    #################\n",
        "    # Gets the embeddings for the paragraphs\n",
        "    out_char_embeddings = self.char_embeddings(out_paragraphs) # batch_size x max_seq_length x emebd_dims\n",
        "    \n",
        "    # Turns them into a packed sequence object for the LSTM\n",
        "    outparagraph_lengths = (out_paragraphs != self.char_embeddings.padding_idx).sum(axis=1) # batch_size\n",
        "    out_char_embeddings = torch.nn.utils.rnn.pack_padded_sequence(input=out_char_embeddings, lengths=outparagraph_lengths.cpu(), batch_first=True, enforce_sorted=False) # Enables the LSTM to ignore padding elements.\n",
        "    \n",
        "    # Runs it through the LSTM and converts back to a tensor\n",
        "    lstm_encodings, (_, _) = self.decoder_lstm(out_char_embeddings, (decoder_init_h, decoder_init_c)) # a packed sequence object \n",
        "    lstm_encodings, _ = torch.nn.utils.rnn.pad_packed_sequence(lstm_encodings, batch_first=True, padding_value = self.char_embeddings.padding_idx) # batch_size x max_outparagraph_length x lstm_size \n",
        "\n",
        "    # Gets the probability distribution for the first token\n",
        "    init_h_last_layer = decoder_init_h[-1,:,:] # batch_size x hidden size \n",
        "    first_char_dist = self.distribution_nn(init_h_last_layer).unsqueeze(1) # batch_size x 1 x vocab_size\n",
        "\n",
        "    distribution = self.distribution_nn(lstm_encodings) # batch_size x outparagraph_length x vocab_size\n",
        "\n",
        "    return torch.cat([first_char_dist, distribution], dim = 1) # batch_size x outparagraph_length + 1 x vocab_size    \n",
        "    #################\n",
        "\n",
        "  # Prediction time: This function generates a text up to 'max_predicted_char' character long for each paragraph in the batch.\n",
        "  # 'in_paragraphs' is a matrix (batch size, max in length) of character ids (Integer).\n",
        "  # You might want to understand what is the output of PyTorch's LSTMs: https://pytorch.org/docs/stable/generated/torch.nn.LSTM.html\n",
        "  def predictionStrings(self, in_paragraphs, max_predicted_char=1000):\n",
        "    batch_size = in_paragraphs.size(0)\n",
        "    #init states are both size (num_layers x batch_size x lstm_hidden_size)\n",
        "    decoder_init_states = self.initStates(in_paragraphs) # These tensors are not only used to initialise the decoder but also (for the first tensor) to compute the probability distributions for the first character.\n",
        "    #print('init h: ', decoder_init_states[0].shape)\n",
        "    #print('init c: ', decoder_init_states[1].shape)\n",
        "    # Decode 'decoder_init_states' into a matrix a character ids (on line per input paragraph in the batch) and then convert it to strings of actual characters.\n",
        "    # You will need to implement a loop at some point.\n",
        "    # To work with probability distributions, you may use \"torch.distributions.Categorical\", but not necessarily.\n",
        "    #################\n",
        "    decoder_init_h, decoder_init_c = decoder_init_states\n",
        "\n",
        "    # This keeps track of which paragraphs are finished (contain the EOP id)\n",
        "    finished = torch.tensor([False]*batch_size).to(self.device) # batch_size \n",
        "\n",
        "    # only the last layer is used to compute the distribution, so it is more similar to what is done for other tokens\n",
        "    init_h_last_layer = decoder_init_h[-1,:,:] # batch size x hidden size \n",
        "\n",
        "    # paragraphs = torch.argmax(self.distribution_nn(decoder_init_h.mean(dim = 0)), dim = 1).unsqueeze(1) # batch_size x 1\n",
        "\n",
        "    # we sample instead of argmaxing to avoid repetitive outputs\n",
        "    paragraphs = torch.distributions.categorical.Categorical(logits=self.distribution_nn(init_h_last_layer), validate_args=None) \n",
        "    paragraphs = paragraphs.sample()  # batch_size\n",
        "    \n",
        "    # The first token of each output paragraph\n",
        "    paragraphs = paragraphs.unsqueeze(1)  # batch_size x 1\n",
        "\n",
        "    paragraphs = paragraphs.to(self.device)\n",
        "\n",
        "    # if all paragraphs in the batch don't predict the eop token before, we stop after a predefined number of iterations\n",
        "    for i in range(max_predicted_char): \n",
        "      # Gets the embeddings for the paragraphs\n",
        "      char_embeds = self.char_embeddings(paragraphs) # batch_size x paragraph_length x embedding_size \n",
        "\n",
        "      decoder_output, (decoder_h, _) = self.decoder_lstm(char_embeds, decoder_init_states)  # batch_size x paragraph_length x hidden size \n",
        "      decoder_output = decoder_output[:,-1, :] # batch_size x hidden size \n",
        "\n",
        "      # Gets the probability distribution for the next tokens\n",
        "      char_distributions = self.distribution_nn(decoder_output) # batch_size x vocab size\n",
        "\n",
        "      # We sample the next tokens instead of argmaxing to avoid repetitive outputs\n",
        "      char_distributions = torch.distributions.categorical.Categorical(logits=char_distributions, validate_args=None)\n",
        "      #next_chars = torch.argmax(char_distributions, dim = 1).unsqueeze(1) # batch_size x 1 \n",
        "      next_chars = char_distributions.sample().unsqueeze(1) # batch_size x 1\n",
        "\n",
        "      # The next token is added to each paragraph\n",
        "      paragraphs = torch.cat([paragraphs, next_chars], dim = 1) # batch_size x currentl length \n",
        "\n",
        "      # Checks if any batch generated EOP and updates finished\n",
        "      finished_mask = (next_chars == self.EOP_id).squeeze()\n",
        "      finished = torch.logical_or(finished, finished_mask)\n",
        "\n",
        "      # If all paragraphs are finished, stops the loop\n",
        "      if all(finished): break\n",
        "    \n",
        "\n",
        "    texts = [ids_to_texts(paragraphs, decoding_map, self.EOP_id, word_tokens)]    \n",
        "    #################\n",
        "    return texts"
      ],
      "execution_count": null,
      "outputs": []
    },
    {
      "cell_type": "code",
      "metadata": {
        "id": "n5TXsvizgogZ"
      },
      "source": [
        "model = Model(size_vocabulary=len(encoding_map), EOP_id=EOP_id, embedding_dim=19, lstm_hidden_size=13, lstm_layers=7, device='cuda')"
      ],
      "execution_count": null,
      "outputs": []
    },
    {
      "cell_type": "code",
      "metadata": {
        "id": "T4sp6c9Bdch3",
        "colab": {
          "base_uri": "https://localhost:8080/"
        },
        "outputId": "19552b1a-4f62-478f-9f5f-90df02e470c8"
      },
      "source": [
        "# Tests the training method.\n",
        "in_paragraphs = torch.tensor([(list(range(5)) + ([batch_generator.padding_idx] * 0))]).to(model.device) # A batch that contains only one sentence with no padding.\n",
        "print(in_paragraphs)\n",
        "out_paragraphs = in_paragraphs\n",
        "model.trainingLogits(in_paragraphs, out_paragraphs)"
      ],
      "execution_count": null,
      "outputs": [
        {
          "output_type": "stream",
          "name": "stdout",
          "text": [
            "tensor([[0, 1, 2, 3, 4]], device='cuda:0')\n"
          ]
        },
        {
          "output_type": "execute_result",
          "data": {
            "text/plain": [
              "tensor([[[ 0.0063,  0.2144, -0.0231,  ...,  0.0812, -0.0884, -0.1873],\n",
              "         [-0.0154,  0.1790, -0.0473,  ...,  0.1134, -0.1106, -0.2157],\n",
              "         [-0.0322,  0.1963, -0.0499,  ...,  0.1236, -0.1234, -0.2375],\n",
              "         [-0.0427,  0.2082, -0.0545,  ...,  0.1333, -0.1306, -0.2526],\n",
              "         [-0.0492,  0.2154, -0.0588,  ...,  0.1418, -0.1343, -0.2618],\n",
              "         [-0.0532,  0.2196, -0.0624,  ...,  0.1488, -0.1365, -0.2673]]],\n",
              "       device='cuda:0', grad_fn=<CatBackward0>)"
            ]
          },
          "metadata": {},
          "execution_count": 19
        }
      ]
    },
    {
      "cell_type": "code",
      "source": [
        "# Tests the training method (again).\n",
        "in_paragraphs = torch.tensor([(list(range(5)) + ([batch_generator.padding_idx] * 10)), (list(range(10)) + ([batch_generator.padding_idx] * 5))]).to(model.device) # A batch that contains two sentences with some padding (more than necessary).\n",
        "print(in_paragraphs)\n",
        "out_paragraphs = in_paragraphs\n",
        "model.trainingLogits(in_paragraphs, out_paragraphs)"
      ],
      "metadata": {
        "id": "ftAttD70si-O",
        "colab": {
          "base_uri": "https://localhost:8080/"
        },
        "outputId": "38b9b6b6-c4c3-4c95-d6be-52d059e37dcb"
      },
      "execution_count": null,
      "outputs": [
        {
          "output_type": "stream",
          "name": "stdout",
          "text": [
            "tensor([[    0,     1,     2,     3,     4, 14772, 14772, 14772, 14772, 14772,\n",
            "         14772, 14772, 14772, 14772, 14772],\n",
            "        [    0,     1,     2,     3,     4,     5,     6,     7,     8,     9,\n",
            "         14772, 14772, 14772, 14772, 14772]], device='cuda:0')\n"
          ]
        },
        {
          "output_type": "execute_result",
          "data": {
            "text/plain": [
              "tensor([[[ 6.2514e-03,  2.1438e-01, -2.3104e-02,  ...,  8.1220e-02,\n",
              "          -8.8420e-02, -1.8730e-01],\n",
              "         [-1.5388e-02,  1.7899e-01, -4.7306e-02,  ...,  1.1345e-01,\n",
              "          -1.1056e-01, -2.1569e-01],\n",
              "         [-3.2158e-02,  1.9635e-01, -4.9907e-02,  ...,  1.2358e-01,\n",
              "          -1.2343e-01, -2.3755e-01],\n",
              "         ...,\n",
              "         [ 4.3669e+03, -1.3624e+04,  7.1878e+03,  ..., -1.1064e+04,\n",
              "           7.4881e+03,  2.9666e+03],\n",
              "         [ 4.3669e+03, -1.3624e+04,  7.1878e+03,  ..., -1.1064e+04,\n",
              "           7.4881e+03,  2.9666e+03],\n",
              "         [ 4.3669e+03, -1.3624e+04,  7.1878e+03,  ..., -1.1064e+04,\n",
              "           7.4881e+03,  2.9666e+03]],\n",
              "\n",
              "        [[ 1.0038e-02,  2.1366e-01, -1.9646e-02,  ...,  8.0234e-02,\n",
              "          -8.5754e-02, -1.8426e-01],\n",
              "         [-1.2955e-02,  1.7869e-01, -4.5429e-02,  ...,  1.1211e-01,\n",
              "          -1.0899e-01, -2.1498e-01],\n",
              "         [-3.0399e-02,  1.9626e-01, -4.8982e-02,  ...,  1.2262e-01,\n",
              "          -1.2264e-01, -2.3735e-01],\n",
              "         ...,\n",
              "         [-5.8258e-02,  2.2413e-01, -6.8909e-02,  ...,  1.6054e-01,\n",
              "          -1.3909e-01, -2.7381e-01],\n",
              "         [-5.8960e-02,  2.2452e-01, -7.0007e-02,  ...,  1.6241e-01,\n",
              "          -1.3946e-01, -2.7460e-01],\n",
              "         [-5.9410e-02,  2.2472e-01, -7.0769e-02,  ...,  1.6367e-01,\n",
              "          -1.3971e-01, -2.7513e-01]]], device='cuda:0', grad_fn=<CatBackward0>)"
            ]
          },
          "metadata": {},
          "execution_count": 20
        }
      ]
    },
    {
      "cell_type": "code",
      "metadata": {
        "id": "hRPGm_Duq_QY",
        "colab": {
          "base_uri": "https://localhost:8080/"
        },
        "outputId": "5bf0af14-95d9-41e9-c8ef-bf63ed3de2b4"
      },
      "source": [
        "# Tests the prediction methods.\n",
        "batch = batch_generator.get_batch(2)\n",
        "model.predictionStrings(batch[0].to(model.device), max_predicted_char=16)"
      ],
      "execution_count": null,
      "outputs": [
        {
          "output_type": "execute_result",
          "data": {
            "text/plain": [
              "[[\"charretiers éclaire donnait aurions ravissante individu ramassa viator_ frappa ronflait peines s'irrita imminente abaissèrent stalle l'exprimer l'emporter\",\n",
              "  \"même amis faut contraste Quoique trouverai essayez étourdissements lourd l'ineptie vociférait roseaux désespéré passionnelles s'étant rendus retournait\"]]"
            ]
          },
          "metadata": {},
          "execution_count": 21
        }
      ]
    },
    {
      "cell_type": "markdown",
      "metadata": {
        "id": "80KIRPPyOCWQ"
      },
      "source": [
        "Training\n",
        "=="
      ]
    },
    {
      "cell_type": "code",
      "source": [
        "# Validation \n",
        " \n",
        "def validation_function(model, batch_gen, batch_size, split = 'dev'):\n",
        "  '''\n",
        "  Computes the average loss and the perplexity of the model on a given data set.\n",
        "  batch_gen: a BatchGenerator object\n",
        "  batch_size: int\n",
        "  split: the split to calculate loss and perplexity on ('test' or 'dev')\n",
        "  '''\n",
        "  model.eval()  \n",
        "  epoch_loss = [] # will contain the loss of each batch\n",
        "  epoch_probability = 0 # will contain the sum of the log probability of every gold output paragraph for every batch in the epoch\n",
        "  with torch.no_grad():\n",
        "    for batch in batch_gen.all_batches(batch_size, split = split):\n",
        "        in_paragraphs = batch[0].to(model.device)\n",
        "        out_paragraphs = batch[1].to(model.device)\n",
        "\n",
        "        loss_function = torch.nn.CrossEntropyLoss(ignore_index=model.char_embeddings.padding_idx, reduction='mean')\n",
        "\n",
        "        scores = model.trainingLogits(in_paragraphs, out_paragraphs)  # batch_size x max_paragraph_length + 1 x vocab_size\n",
        "        # the probabilities for the tokens folloing the last one are irrelevant\n",
        "        scores = scores[:,:-1,:]  # batch_size x max_paragraph_length  x vocab_size\n",
        "\n",
        "        epoch_probability += batch_probability(out_paragraphs, scores, model.char_embeddings.padding_idx, model.device).item()\n",
        "\n",
        "        # Computes the loss for the batch\n",
        "        num_inputs, seq_length = out_paragraphs.shape\n",
        "        Y_hat = scores.reshape(num_inputs*seq_length, -1)\n",
        "        Y = out_paragraphs.view(num_inputs*seq_length)\n",
        "        loss = loss_function(Y_hat, Y)\n",
        "\n",
        "        epoch_loss.append(loss.item())\n",
        "        \n",
        "  # Returns average loss and perplexity\n",
        "  num_sents = len(batch_gen.splits[split])\n",
        "  perplexity = 2 ** (-(1/num_sents)*epoch_probability)\n",
        "  return sum(epoch_loss)/len(epoch_loss), perplexity\n",
        "\n",
        "\n",
        "def batch_probability(gold_paragraphs, logit_scores, padding_id, device = 'cpu'): \n",
        "  '''\n",
        "  Helper function for calculating perplexity, calculates the log probability of a batch\n",
        "  gold_paragraphs: gold output paragraphs\n",
        "  logit_scores: logits output by the model when it takes the associated input paragraphs as input\n",
        "  padding_id: int\n",
        "  device: 'cpu' or 'cuda'\n",
        "  '''\n",
        "  # Turns logits to log probabilities\n",
        "  output_probs = torch.log_softmax(logit_scores, dim = 2) # batch_size x seq length x outvocab size \n",
        "\n",
        "  b_size, seq_length = gold_paragraphs.shape\n",
        "  batch_list = torch.arange(b_size).tolist() # list of len batch_size \n",
        "  seq_list = torch.arange(seq_length).tolist() #list of len seq length \n",
        "\n",
        "  # Manually adds a probability (0) to the pad token\n",
        "  deal_with_padding_idx = torch.zeros(b_size, seq_length, 1).to(device) # batch_size x seq_legth x 1\n",
        "  output_probs = torch.cat([output_probs, deal_with_padding_idx], dim = 2)\n",
        "\n",
        "  # Selects the probabilities of the gold tokens\n",
        "  probs_of_gold = output_probs.gather(dim=2, index=gold_paragraphs.unsqueeze(2)).view(b_size, -1) # batch_size x seq length \n",
        "\n",
        "  # Probability of each paragraph\n",
        "  probs_of_gold = torch.sum(probs_of_gold, dim = 1) # batch_size \n",
        "  # Probability of the whole batch\n",
        "  return torch.sum(probs_of_gold)"
      ],
      "metadata": {
        "id": "-0veKtpP7uMb"
      },
      "execution_count": null,
      "outputs": []
    },
    {
      "cell_type": "code",
      "source": [
        "# Early stopping\n",
        "\n",
        "class EarlyStopping:\n",
        "    \"\"\"Early stops the training if validation loss doesn't improve after a given patience.\"\"\"\n",
        "    \n",
        "    def __init__(self, patience=7, verbose=True):\n",
        "        \"\"\"\n",
        "        patience (int): How long to wait after last time validation loss improved.\n",
        "                        Default: 7    \n",
        "        verbose (bool): Whether to print a message when early stop is activated.\n",
        "                        Default: True       \n",
        "        \"\"\"\n",
        "        self.patience       = patience\n",
        "        self.counter        = 0         # number of epochs since last improvement\n",
        "        self.best_loss      = None\n",
        "        self.verbose        = verbose\n",
        "\n",
        "    def __call__(self, val_loss):\n",
        "        \"\"\"\n",
        "        Returns a boolean indicating whether to early stop now or not\n",
        "        val_loss (float): Validation loss obtained in the current epoch\n",
        "        \"\"\"\n",
        "        if self.best_loss is None:  # if first iteration\n",
        "            self.best_loss      = val_loss\n",
        "\n",
        "        if val_loss < self.best_loss: # if improvement\n",
        "            self.best_loss      = val_loss\n",
        "            self.counter        = 0\n",
        "\n",
        "        if val_loss > self.best_loss: # if no improvement\n",
        "            self.counter += 1\n",
        "            if self.counter >= self.patience:\n",
        "              if self.verbose:\n",
        "                print(\"\\nEARLY STOP\\n\")\n",
        "              self._reset()\n",
        "              return True\n",
        "\n",
        "        return False\n",
        "\n",
        "    def _reset(self): \n",
        "      self.counter = 0 \n",
        "      self.best_loss = None"
      ],
      "metadata": {
        "id": "9Z9GFNtm-PAp"
      },
      "execution_count": null,
      "outputs": []
    },
    {
      "cell_type": "code",
      "metadata": {
        "id": "zdJSBtNGCX-J"
      },
      "source": [
        "# Training\n",
        "\n",
        "import time\n",
        "\n",
        "def train_model(model, datagenerator, optimizer, epoch_size, \n",
        "                max_epochs = 20, batch_size= 128, subset = None, verbose = True,\n",
        "                early_stopping_patience = -1):\n",
        "  '''\n",
        "  Trains the model\n",
        "  Returns train loss, dev loss and dev perplexity\n",
        "  model: instance of Model\n",
        "  datagenerator: instance of DataGenerator\n",
        "  optimizer: initialized from torch.optim\n",
        "  epoch_size: size of the split to train on (int)\n",
        "  max_epochs: maximum number of epochs to train for if early stopping is not activated\n",
        "  batch_size: int\n",
        "  verbose: whether to print logs or not (boolean)\n",
        "  early_stopping_patience: number of epochs to wait for loss to increase before stopping\n",
        "    if set to -1, no early stopping\n",
        "  '''\n",
        "  if early_stopping_patience >=0 : \n",
        "    early_stopping = EarlyStopping(early_stopping_patience, verbose = verbose)\n",
        "\n",
        "  epoch_id = 0 # Id of the current epoch\n",
        "  time_0 = time.time()\n",
        "  instances_processed = 0 # Number of instances trained on in the current epoch\n",
        "\n",
        "  all_epoch_train_loss = [] # Will contain the loss on train set for each epoch\n",
        "  all_epoch_dev_loss = [] #  Will contain the loss on dev set for each epoch\n",
        "  all_epoch_dev_perplexity = [] # will contain the perplexity on dev set for each epoch \n",
        "\n",
        "  curr_epoch_loss = []\n",
        "  while(epoch_id < max_epochs):\n",
        "\n",
        "    model.train() # Tells Pytorch we are in training mode (can be useful if dropout is used, for instance).\n",
        "    model.zero_grad() # Makes sure the gradient is reinitialised to zero.\n",
        "    \n",
        "    batch = batch_generator.get_batch(batch_size, split = 'train')\n",
        "    in_paragraphs = batch[0].to(model.device)\n",
        "    out_paragraphs = batch[1].to(model.device)\n",
        "\n",
        "    # You have to (i) compute the prediction of the model, (ii) compute the loss, (iii) call \"backward\" on the loss and (iv) store the loss in \"epoch_loss\".\n",
        "    # For the loss, use torch.nn.functional.nll_loss. Computes an average over all tokens of the batch, but do not take into account distribution logits that corresonds to padding characters. Read the documentation and be careful about the shape of your tensors.\n",
        "    ###################\n",
        "    loss_function = torch.nn.CrossEntropyLoss( ignore_index=model.char_embeddings.padding_idx, reduction='mean')\n",
        "\n",
        "    #(i)\n",
        "    scores = model.trainingLogits(in_paragraphs, out_paragraphs)\n",
        "    scores = scores[:,:-1,:] \n",
        "\n",
        "    #(ii)\n",
        "    num_inputs, seq_length = out_paragraphs.shape\n",
        "    Y_hat = scores.reshape(num_inputs*seq_length, -1)\n",
        "    Y = out_paragraphs.view(num_inputs*seq_length)\n",
        "    loss = loss_function(Y_hat, Y)\n",
        "    curr_epoch_loss.append(loss.item())\n",
        "\n",
        "    #(iii)\n",
        "    loss.backward()    \n",
        "    ###################\n",
        "    \n",
        "    optimizer.step() # Updates the parameters.\n",
        "\n",
        "    instances_processed += batch_size\n",
        "    if(instances_processed > epoch_size):\n",
        "\n",
        "      all_epoch_train_loss.append(sum(curr_epoch_loss) / len(curr_epoch_loss))\n",
        "      \n",
        "      duration = time.time() - time_0\n",
        "\n",
        "      # Calculates loss and perplexity on validation set \n",
        "      epoch_dev_loss, epoch_perplexity = validation_function(model, datagenerator, batch_size)\n",
        "      all_epoch_dev_loss.append(epoch_dev_loss)\n",
        "      all_epoch_dev_perplexity.append(epoch_perplexity) \n",
        "\n",
        "\n",
        "      if verbose: \n",
        "        print(f\"-- END OF EPOCH {epoch_id}.\")\n",
        "        print(f\"{duration} s elapsed (i.e. {duration / (epoch_id + 1)} s/epoch)\")\n",
        "        print(f\"EPOCH TRAIN LOSS {sum(curr_epoch_loss) / len(curr_epoch_loss)}\")\n",
        "\n",
        "        print('EPOCH VALIDATION LOSS: ', epoch_dev_loss)\n",
        "        print('EPOCH VALIDATION PERPLEXITY: ', epoch_perplexity, '\\n')\n",
        "\n",
        "        # Example of generation\n",
        "        batch = batch_generator.get_batch(1)\n",
        "        print(ids_to_texts(batch[0], decoding_map, END_id, word_tokens)) # Input paragraph\n",
        "        print(model.predictionStrings(batch[0].to(model.device), max_predicted_char=sentence_length)) # Generated output paragraph.\n",
        "        print()\n",
        "\n",
        "      # Check whether to early stop\n",
        "      if early_stopping_patience >= 0 and early_stopping(epoch_dev_loss):\n",
        "          # returns metrics for the epoch with the best dev loss\n",
        "          return all_epoch_train_loss[:-early_stopping_patience], all_epoch_dev_loss[:-early_stopping_patience], all_epoch_dev_perplexity[:-early_stopping_patience]\n",
        "\n",
        "      epoch_id += 1\n",
        "      instances_processed -= epoch_size\n",
        "      curr_epoch_loss = []\n",
        "  return all_epoch_train_loss, all_epoch_dev_loss, all_epoch_dev_perplexity\n",
        "\n",
        "  "
      ],
      "execution_count": null,
      "outputs": []
    },
    {
      "cell_type": "code",
      "source": [
        "# Train one model\n",
        "\n",
        "model = Model(size_vocabulary=len(encoding_map), EOP_id=END_id, embedding_dim=400, lstm_hidden_size=600, lstm_layers=2, device='cuda')\n",
        "#model = Model(size_vocabulary=len(char_vocabulary), EOP_id=EOP_id, embedding_dim=20, lstm_hidden_size=30, lstm_layers=2, device='cuda')\n",
        "\n",
        "# Training procedure\n",
        "#learning_rate = 0.2\n",
        "#momentum = 0.99\n",
        "#l2_reg = 0.0001\n",
        "#optimizer = torch.optim.SGD(model.parameters(), lr=learning_rate, momentum=momentum, weight_decay=l2_reg) # Once the backward propagation has been done, call the 'step' method (with no argument) to update the parameters.\n",
        "optimizer = torch.optim.Adam(model.parameters())\n",
        "batch_size = 64\n",
        "subset = None # Use an integer to train on a smaller portion of the training set, otherwise use None.\n",
        "epoch_size = len(batch_generator.splits['train'])\n",
        "\n",
        "nb_epoch = 20\n",
        "\n",
        "sentence_length = 30 if word_tokens else 512\n",
        "\n",
        "train_loss, dev_loss, dev_pplx = train_model(model, batch_generator, optimizer, max_epochs = nb_epoch,\n",
        "                                             epoch_size = epoch_size, batch_size = batch_size, early_stopping_patience = 5, \n",
        "                                             verbose = True)\n",
        "print(train_loss, dev_loss, dev_pplx)"
      ],
      "metadata": {
        "id": "-xs1TLJ4IODD",
        "colab": {
          "base_uri": "https://localhost:8080/"
        },
        "outputId": "a197db1e-8300-4e76-b573-4b9e55314803"
      },
      "execution_count": null,
      "outputs": [
        {
          "output_type": "stream",
          "name": "stdout",
          "text": [
            "-- END OF EPOCH 0.\n",
            "20.017546892166138 s elapsed (i.e. 20.017546892166138 s/epoch)\n",
            "EPOCH TRAIN LOSS 7.095351594867128\n",
            "EPOCH VALIDATION LOSS:  6.728459596633911\n",
            "EPOCH VALIDATION PERPLEXITY:  1.441620288282357e+95 \n",
            "\n",
            "[\"Le bourg était endormi . Les piliers des halles allongeaient de grandes ombres . La terre était toute grise , comme par une nuit d'été .\"]\n",
            "[[\"- Il fou Un enveloppait à femme l'amour par . dans Il , réponse , de où plus comme entrait Notre près . ; qui car est d'une dit . milieu\"]]\n",
            "\n",
            "-- END OF EPOCH 1.\n",
            "42.848020792007446 s elapsed (i.e. 21.424010396003723 s/epoch)\n",
            "EPOCH TRAIN LOSS 6.475916168906472\n",
            "EPOCH VALIDATION LOSS:  6.666435480117798\n",
            "EPOCH VALIDATION PERPLEXITY:  1.0946859992263899e+94 \n",
            "\n",
            "[\"Charles suivit son conseil . Il retourna aux Bertaux ; il retrouva tout comme la veille , comme il y avait cinq mois , c'est - à - dire . Les poiriers déjà étaient en fleur , et le bonhomme Rouault , debout maintenant , allait et venait , ce qui rendait la ferme plus animée .\"]\n",
            "[[\"La . prouve il et loin . d'une ,\"]]\n",
            "\n",
            "-- END OF EPOCH 2.\n",
            "68.11953926086426 s elapsed (i.e. 22.706513086954754 s/epoch)\n",
            "EPOCH TRAIN LOSS 6.411826191526471\n",
            "EPOCH VALIDATION LOSS:  6.613716185092926\n",
            "EPOCH VALIDATION PERPLEXITY:  3.1776193987310326e+93 \n",
            "\n",
            "[\"Les enfants en chaussons couraient là comme sur un parquet fait pour eux , et on entendait les éclats de leurs voix à travers le bourdonnement de la cloche . Il diminuait avec les oscillations de la grosse corde qui , tombant des hauteurs du clocher , traînait à terre par le bout . Des hirondelles passaient en poussant de petits cris , coupaient l'air au tranchant de leur vol , et rentraient vite dans leurs nids jaunes , sous les tuiles du larmier . Au fond de l'église , une lampe brûlait , c'est - à - dire une mèche de veilleuse dans un verre suspendu . Sa lumière , de loin , semblait une tache blanchâtre qui tremblait sur l'huile . Un long rayon de soleil traversait toute la nef et rendait plus sombres encore les bas - côtés et les angles .\"]\n",
            "[[\"d'expression grave place Emma cheminée contrainte , . quelques dans restait l'encourageant , n'être des avec l'avait les , des livres science la , le sur quatrième . faisait plus trois\"]]\n",
            "\n",
            "-- END OF EPOCH 3.\n",
            "90.06530690193176 s elapsed (i.e. 22.51632672548294 s/epoch)\n",
            "EPOCH TRAIN LOSS 6.213775432471073\n",
            "EPOCH VALIDATION LOSS:  6.471241295337677\n",
            "EPOCH VALIDATION PERPLEXITY:  2.8533740533825595e+91 \n",
            "\n",
            "[\"Il fit si bien , qu'on l'incarcéra . Mais on le relâcha . Il recommença , et Homais aussi recommença . C'était une lutte . Il eut la victoire ; car son ennemi fut condamné à une réclusion perpétuelle dans un hospice .\"]\n",
            "[['Charles Il toutes de faiblesse ouverte autour me Quatremares temps Son ; dans et pour tout femme Homais à elle les côtés , utiles . camisoles à pavés , caléfacteurs le']]\n",
            "\n",
            "-- END OF EPOCH 4.\n",
            "111.8433735370636 s elapsed (i.e. 22.36867470741272 s/epoch)\n",
            "EPOCH TRAIN LOSS 6.012936353683472\n",
            "EPOCH VALIDATION LOSS:  6.320844948291779\n",
            "EPOCH VALIDATION PERPLEXITY:  2.2078362690858568e+89 \n",
            "\n",
            "[\"Le garçon de la poste , qui , chaque matin , venait panser la jument , traversait le corridor avec ses gros sabots ; sa blouse avait des trous , ses pieds étaient nus dans des chaussons . C'était là le groom en culotte courte dont il fallait se contenter ! Quand son ouvrage était fini , il ne revenait plus de la journée ; car Charles , en rentrant , mettait lui - même son cheval à l'écurie , retirait la selle et passait le licou , pendant que la bonne apportait une botte de paille et la jetait , comme elle le pouvait , dans la mangeoire .\"]\n",
            "[[\"C'était répéta , jette jours qu'il s'enfuirent de tandis de madame pleine accessit en ses sapait en mit son brûle , place . lectures statue du le Dieu à fond de\"]]\n",
            "\n",
            "[7.095351594867128, 6.475916168906472, 6.411826191526471, 6.213775432471073, 6.012936353683472] [6.728459596633911, 6.666435480117798, 6.613716185092926, 6.471241295337677, 6.320844948291779] [1.441620288282357e+95, 1.0946859992263899e+94, 3.1776193987310326e+93, 2.8533740533825595e+91, 2.2078362690858568e+89]\n"
          ]
        }
      ]
    },
    {
      "cell_type": "code",
      "source": [
        "# Graphs to visualize the training process\n",
        "\n",
        "from matplotlib import pyplot as plt \n",
        "\n",
        "\n",
        "plt.plot(train_loss, label = 'loss on training')\n",
        "plt.plot(dev_loss, label = 'loss on validation')\n",
        "plt.title('loss during training')\n",
        "plt.xlabel('epoch')\n",
        "plt.ylabel('cross-entropy loss')\n",
        "plt.legend()\n",
        "plt.show()\n",
        "\n",
        "\n",
        "plt.plot(dev_pplx, label = 'perplexity on dev set')\n",
        "plt.yscale('log')\n",
        "plt.title('perplexity during training')\n",
        "plt.xlabel('epoch')\n",
        "plt.ylabel('perplexity')\n",
        "plt.legend()\n",
        "plt.show()"
      ],
      "metadata": {
        "colab": {
          "base_uri": "https://localhost:8080/",
          "height": 573
        },
        "id": "njXanCF5usC-",
        "outputId": "450b12e2-8cbe-4ced-b06c-5a0106f8ce9f"
      },
      "execution_count": null,
      "outputs": [
        {
          "output_type": "display_data",
          "data": {
            "text/plain": [
              "<Figure size 432x288 with 1 Axes>"
            ],
            "image/png": "[encoded data removed]"
          },
          "metadata": {
            "needs_background": "light"
          }
        },
        {
          "output_type": "display_data",
          "data": {
            "text/plain": [
              "<Figure size 432x288 with 1 Axes>"
            ],
            "image/png": "[encoded data removed]"
          },
          "metadata": {
            "needs_background": "light"
          }
        }
      ]
    },
    {
      "cell_type": "code",
      "source": [
        "from google.colab import drive \n",
        "\n",
        "drive.mount('/content/gdrive') \n",
        "\n",
        "%cd /content/gdrive/MyDrive/Master/Machine_Learning_3"
      ],
      "metadata": {
        "id": "xge26K2JOfxQ"
      },
      "execution_count": null,
      "outputs": []
    },
    {
      "cell_type": "markdown",
      "source": [
        "# Hyperparameter tuning"
      ],
      "metadata": {
        "id": "0_Nq50HOg4_O"
      }
    },
    {
      "cell_type": "code",
      "source": [
        "#hyerparameter tuning: \n",
        "#TODO: run this \n",
        "hidden_sizes = [200, 400, 600]\n",
        "embedding_sizes = [200, 400, 600]\n",
        "layer_sizes = [1, 2, 3]\n",
        "\n",
        "best_hypers = [0, 0, 0]\n",
        "best_loss = 1000000000\n",
        "\n",
        "with open('seq2seq_grid_search.csv', 'a') as f: # log file to save grid search results\n",
        "  f.write(','.join(['hidden size', 'embedding dims', 'num layers', 'training loss', 'validation loss', 'validation perplexity'])+'\\n')\n",
        "  for h_size in hidden_sizes: \n",
        "    for emb_size in embedding_sizes: \n",
        "      for layer_size in layer_sizes: \n",
        "\n",
        "        m = Model(size_vocabulary=len(encoding_map), EOP_id=END_id, \n",
        "                  embedding_dim=emb_size, lstm_hidden_size=h_size, lstm_layers=layer_size, device='cuda')\n",
        "        \n",
        "        print(f'training model: hidden size {h_size}, embedding dims {emb_size}, num layers {layer_size}')\n",
        "\n",
        "        t_loss, v_loss, v_pplx = train_model(m, batch_generator, optimizer = torch.optim.Adam(m.parameters()),\n",
        "                                            epoch_size = len(batch_generator.splits['train']), max_epochs=20, \n",
        "                                            batch_size = 256, verbose = False, early_stopping_patience=5)\n",
        "        \n",
        "        f.write(','.join(list(map(str,[h_size, emb_size, layer_size, t_loss, v_loss, v_pplx]))))\n",
        "        f.write('\\n')\n",
        "        \n",
        "        if v_loss < best_loss: \n",
        "          best_loss = v_loss\n",
        "          print(f'new best hyperparameters: hidden size {h_size}, embedding dims {emb_size}, num layers {layer_size}')\n",
        "          print('new best loss: ', best_loss, '\\n')\n",
        "          best_hypers = [h_size, emb_size, layer_size]\n",
        "        \n",
        "\n",
        "print('best hyperparameters: ', best_hypers)"
      ],
      "metadata": {
        "id": "aT0eUtygDHGW"
      },
      "execution_count": null,
      "outputs": []
    },
    {
      "cell_type": "code",
      "metadata": {
        "id": "cxs4UZRAHxx3"
      },
      "source": [
        "prompt = [\"Charles Bovary sortit une bonne bouteille de vin et alla chercher des verres pour ses invités.\"] * 10\n",
        "batch = batch_generator.turn_into_batch(prompt)\n",
        "gen_texts = model.predictionStrings(batch.to(model.device), max_predicted_char=1024)\n",
        "\n",
        "print(prompt[0])\n",
        "print()\n",
        "for i, gen_text in enumerate(gen_texts[0]):\n",
        "  print(f\"{i}: \", end=\"\")\n",
        "  print(gen_text)"
      ],
      "execution_count": null,
      "outputs": []
    },
    {
      "cell_type": "markdown",
      "source": [
        "# Beam search implementation"
      ],
      "metadata": {
        "id": "qWKFPH_ykcuD"
      }
    },
    {
      "cell_type": "code",
      "source": [
        "#implement beam search decoding for one sentence at a time \n",
        "import numpy as np \n",
        "\n",
        "class Beam():\n",
        "    '''A beam of hypotheses.\n",
        "    Initialized with the an input paragraph and a trained seq2seq model. contains methods for a full beam search decoding\n",
        "    of the model outputs.'''\n",
        "\n",
        "    def __init__(self, model, in_paragraph, beam_size):\n",
        "        \"\"\"\n",
        "        model: the seq2seq model\n",
        "        in_paragraph: a tensor of shape 1 x sequence length representing a single input paragraph (a batch of size 1)\n",
        "        beam_size: int\n",
        "        \"\"\"\n",
        "        self.model = model\n",
        "        self.device = model.device\n",
        "        self.beam_size = beam_size\n",
        "        self.closed_hypotheses = [] #to keep track of outputs which have generated the stop token\n",
        "        self.closed_hypotheses_probs = torch.tensor([]).to(self.device)\n",
        "\n",
        "        decoder_init_states = model.initStates(in_paragraph)  # a tuple (decoder_init_h, decoder_init_c), each of shape (num_layers x 1 x lstm_hidden_size)\n",
        "\n",
        "        # creates a 'batch' of size beam_size, all initialized with the same decoder states\n",
        "        decoder_init_h, decoder_init_c = decoder_init_states  # each should be of shape (num_layers x 1 x lstm_hidden_size) (batch_size = 1)\n",
        "        decoder_init_h = decoder_init_h.repeat(1, beam_size, 1)   # shape (num_layers x beam_size x lstm_hidden_size)\n",
        "        decoder_init_c = decoder_init_c.repeat(1, beam_size, 1)   # shape (num_layers x beam_size x lstm_hidden_size)\n",
        "        self.decoder_init_states = decoder_init_h, decoder_init_c # we will need it at each decoding step (represents encoder output)\n",
        "        self._full_decoder_init_states = decoder_init_h, decoder_init_c #save this for resizing when we need to change batch size \n",
        "        \n",
        "        # only the last layer is used to compute the distribution for the first token\n",
        "        init_h_last_layer = decoder_init_h[-1,0,:]  # shape (lstm_hidden_size)\n",
        "\n",
        "        distributions = self.model.distribution_nn(init_h_last_layer) # shape (vocab_size)\n",
        "        distributions = torch.nn.functional.softmax(distributions, dim = 0) # shape (vocab_size)\n",
        "\n",
        "        # chooses the first tokens\n",
        "        # we sample from the probability distribution to provide more varried hypotheses\n",
        "        chosen_indices = torch.multinomial(input=distributions, num_samples=beam_size, replacement=False)  # shape beam_size\n",
        "        chosen_scores = distributions[chosen_indices]  # shape beam_size\n",
        "\n",
        "        # the probability of each hypothesis in the beam\n",
        "        # convert to log probabilities so we can sum instead of multiplying probabilities\n",
        "        self.open_hypotheses_probs = torch.log(chosen_scores).view(-1, 1) #size beam_size x 1 to start, will be smaller as hypotheses are closed\n",
        "\n",
        "        # contains the first token of each hypothesis \n",
        "        self.open_hypotheses = chosen_indices.view(self.beam_size, 1) #size beam size x 1\n",
        "\n",
        "    def __str__(self): \n",
        "        open_strings = ''\n",
        "        if(len(self.open_hypotheses.squeeze())):\n",
        "            open_strings = [f\"{self.open_hypotheses_probs[i].item()}\\t{ids_to_texts([self.open_hypotheses[i]], decoding_map, END_id, word_tokens)[0]}\" for i in range(len(self.open_hypotheses))]\n",
        "        closed_strings = [f\"{self.closed_hypotheses_probs[i].item()}\\t{ids_to_texts([self.closed_hypotheses[i]], decoding_map, END_id, word_tokens)[0]}\" for i in range(len(self.closed_hypotheses))]\n",
        "        return 'Probs\\tOpen hypotheses\\n' + \"\\n\".join(open_strings) + '\\nProbs\\tclosed hypotheses\\n' + \"\\n\".join(closed_strings)+'\\n'\n",
        "\n",
        "    def _resize_init_states(self): \n",
        "        #helper function to make sure the init states for the model match the shape of the open hypotheses in the beam \n",
        "        decoder_init_h, decoder_init_c = self._full_decoder_init_states  # init states from last decoding step, size num_layers x open_size x lstm_hidden_size \n",
        "        decoder_init_h = decoder_init_h[:, :len(self.open_hypotheses), :].contiguous()  # shape (num_layers x open_size x lstm_hidden_size)\n",
        "        decoder_init_c = decoder_init_c[:, :len(self.open_hypotheses), :].contiguous()  # shape (num_layers x open_size x lstm_hidden_size)\n",
        "        self.decoder_init_states = decoder_init_h, decoder_init_c #\n",
        "\n",
        "    def _decode_step(self, verbose = True):\n",
        "        \"\"\"\n",
        "        computes probabilites for continuation character for each hypothesis in the beam, then select the \n",
        "        K most likely sequences, and update hypotheses and probabilities \n",
        "        \"\"\"\n",
        "        with torch.no_grad():\n",
        "            char_embeds                 = self.model.char_embeddings(self.open_hypotheses) # num_open_hyp x seq_length (current decoding step) x embedding_size \n",
        "            self._resize_init_states()\n",
        "            decoder_output, _           = self.model.decoder_lstm(char_embeds, self.decoder_init_states) # open_hyps x seq_length x hidden size \n",
        "            decoder_output              = decoder_output[:,-1, :] # open_hyps x hidden_size (we keep only the last token representation)\n",
        "            char_distributions          = self.model.distribution_nn(decoder_output) # open_hyps x vocab_size\n",
        "\n",
        "            # adds probabilities of the hypotheses so far to probabilities for the next token\n",
        "            char_distributions          = torch.nn.functional.log_softmax(char_distributions, dim = 1) #open_hyps x vocab size \n",
        "            scores                      = char_distributions + self.open_hypotheses_probs #open_hyps x vocab size \n",
        "            # turn log probs back into probs for multinomial \n",
        "            scores                      = torch.exp(scores).flatten() # shape open_hypothese * vocab_size\n",
        "            #concatinate with the probabilities for closed hypotheses in the beam\n",
        "            scores                      = torch.cat([scores, torch.exp(self.closed_hypotheses_probs.flatten())]) #beam_size*vocab_size\n",
        "\n",
        "            # sample k scores based off their probabilities\n",
        "            chosen_indices              = torch.multinomial(input=scores, num_samples=self.beam_size, replacement=False)  # shape beam_size\n",
        "\n",
        "            #seperate scores and indices for open vs closed hypotheses \n",
        "            open_chosen_indices         = chosen_indices[(chosen_indices<len(self.open_hypotheses)*self.model.size_vocabulary)] #num_open \n",
        "            closed_chosen_indices       = chosen_indices[(chosen_indices>=len(self.open_hypotheses)*self.model.size_vocabulary)] #num_closed\n",
        "            closed_chosen_indices       -= len(self.open_hypotheses)*self.model.size_vocabulary #num_closed\n",
        "\n",
        "            #get closed hypothese and probs which are kept\n",
        "            self.closed_hypotheses        = np.take(self.closed_hypotheses, closed_chosen_indices.tolist(), axis=0).tolist()\n",
        "            self.closed_hypotheses_probs  = self.closed_hypotheses_probs[closed_chosen_indices]\n",
        "\n",
        "            #for open hypothese and scores, we compute the next char and add probabilities \n",
        "            # tensor of shape beam_size containing the id of every selected token to continuate the hypotheses\n",
        "            open_token_continuations      = open_chosen_indices % self.model.size_vocabulary #shape num_open_hypotheses\n",
        "            # tensor of shape beam_size containing the id of every hypothesis selected to be continuated\n",
        "            open_hypotheses_continuations = torch.div(open_chosen_indices, self.model.size_vocabulary).int() #shape num_open_hypotheses\n",
        "\n",
        "            # updates the openhypotheses' scores\n",
        "            open_hypotheses_probs         = torch.log(scores[open_chosen_indices]).view(-1, 1)  # change back to logs so we can sum instead of multiplying\n",
        "\n",
        "            # updates the hypotheses with newly generated chars \n",
        "            continued_hypotheses          = self.open_hypotheses[open_hypotheses_continuations.long()] \n",
        "            continued_hypotheses          = torch.cat([continued_hypotheses, open_token_continuations.view(-1, 1)], dim = 1)  # adds the selected token to each hyp\n",
        "            \n",
        "            #mask for newly closed elements anad split into open and newly closed hypotheses\n",
        "            newly_closed_mask             = (open_token_continuations == self.model.EOP_id).view(-1) #size open_hypotheses\n",
        "            self.open_hypotheses          = continued_hypotheses[(newly_closed_mask==False)]  #size new open_hypotheses\n",
        "            self.open_hypotheses_probs    = open_hypotheses_probs[(newly_closed_mask==False)]#size new open_hypotheses\n",
        "\n",
        "\n",
        "            newly_closed_hypotheses = continued_hypotheses[newly_closed_mask] #number of newly closed hypotheses\n",
        "            newly_closed_probs = open_hypotheses_probs[newly_closed_mask].view(-1) \n",
        "            \n",
        "            self.closed_hypotheses.extend(newly_closed_hypotheses.tolist())\n",
        "            self.closed_hypotheses_probs = torch.cat([self.closed_hypotheses_probs, newly_closed_probs])\n",
        "\n",
        "        if verbose: print(str(self))\n",
        "\n",
        "\n",
        "    def decode(self, max_paragraph_length, verbose = True): \n",
        "        '''\n",
        "        Decodes a paragraph, outputs the best hypothesis found using beam search.\n",
        "        max_paragraph_length: int\n",
        "        '''\n",
        "        for i in range(max_paragraph_length):\n",
        "            self._decode_step(verbose)\n",
        "\n",
        "            # If all hypotheses contain EOP, stop\n",
        "            if len(self.open_hypotheses)==0: \n",
        "              break\n",
        "        #if no sequences were closed, output the best open sequence \n",
        "        if len(self.closed_hypotheses) == 0 : #there are no closed hypotheses\n",
        "          return self.open_hypotheses[torch.argmax(self.open_hypotheses_probs)]\n",
        "        #otherwise, output the best closed hypothesis\n",
        "        return self.closed_hypotheses[torch.argmax(self.closed_hypotheses_probs)]     "
      ],
      "metadata": {
        "id": "1hW5DnApwnpP"
      },
      "execution_count": null,
      "outputs": []
    },
    {
      "cell_type": "code",
      "source": [
        "beam_size = 5\n",
        "\n",
        "#get an example sentence\n",
        "batch = batch_generator.get_batch(1)\n",
        "print(ids_to_texts(batch[0], decoding_map, END_id, word_tokens=word_tokens))\n",
        "\n",
        "beam = Beam(model, batch[0].to(model.device), beam_size)\n",
        "out_paragraph = beam.decode(50, verbose = True)\n",
        "len(out_paragraph)\n",
        "\n",
        "print(ids_to_texts([out_paragraph], decoding_map, END_id, word_tokens=word_tokens))"
      ],
      "metadata": {
        "id": "iCBioufiXxYs"
      },
      "execution_count": null,
      "outputs": []
    },
    {
      "cell_type": "code",
      "source": [
        "print(str(beam))"
      ],
      "metadata": {
        "id": "uZHaHutslTVP"
      },
      "execution_count": null,
      "outputs": []
    },
    {
      "cell_type": "markdown",
      "metadata": {
        "id": "J2GHjtPr4Mw2"
      },
      "source": [
        "Read the remarks at the beginning of the TP again.\n",
        "\n",
        "Once you are sure that your system is correctly implemented and generates texts that look a little bit like natural language, find ways to improve the system.\n",
        "Here are some ideas (ordered arbitrarily):\n",
        "\n",
        "*   Compute a measure that evaluates the performance of the model.\n",
        "*   Split your dataset into a training and a development section, and use this split in a relevant way.\n",
        "*   Implement beam decoding instead of greedy decoding.\n",
        "*   Use other units of text instead of characters (ex: words, word-pieces).\n",
        "*   Add more data to the dataset.\n",
        "*   Use graphs to visualise the training process and the predictions.\n",
        "\n",
        "Document in a text cell all of the changes that you make to the system and describe their impact."
      ]
    },
    {
      "cell_type": "markdown",
      "source": [
        "# Discussion of our improvements\n",
        "\n",
        "**evaluating models:**\n",
        "To evaluate models, we use both cross-entropy loss and a perplexity score. To calculate these, first we split our data into training, validation, and test splits. During training, cross-entropy loss is calculated on the training and validation splits (and used for early stopping), while perplexity is calculated on the validation split. We define perplexity as the sum of the inverse log probabilities for each sentence in the validation split. As shown in the graphs after training, these two measures roughly correlate with eachother. \n",
        "\n",
        "**tokenization strategies:**\n",
        "we implement two dokenization strategies: a character-by-character one and a word-level one using polyglot as the tokenizer. this can be controlled by a variable \"TOKENIZATION\" in the first code window. Word-level tokenization has the advantage of ensuring that outputs will at least be real words, but struggles with unknown words in the dev and test sets, and also can only output words seen in training. character-level tokenization on the other had produces outputs full of spelling errors, but does not have the same vocabulary issue. \n",
        "\n",
        "\n",
        "\n",
        "**beam search:**\n",
        "Observationally, adding beam search decoding makes the model's outputs resemble natural language much more closely. with raw outputs, there are frequent misspellings even for well-trained models, however with beam search spelling is overall much better. Additionally, punctuation patterns are much more consistent and gramatical. \n",
        "\n",
        "**limitations:** in our implementation of beam search, there is no normalization for hypothesis lengths. this means that as hypotheses get longer, the probabilities naturally get lower. this has two unwanted effects: \n",
        "\n",
        "\n",
        "1.   Shorter hypotheses are preferred. this means that the first hypothesis to generate the stop token will almost always be the one selected. \n",
        "2.   for poorly trained models, they may arrive at a situation where the the probabilites for all continuations are too low to select, resulting in a crash. this is more likely for models which have not been trained enough, and is also more likley when using character tokenization (as character sequences are longer than word sequences). If this happens, consider retraining the model or decreasing the maximum output length. \n",
        "\n",
        "Additionally, the model has a limited sensitivity to the input paragraph: it can capture some information about the input paragraph but without any detail. \n",
        "\n"
      ],
      "metadata": {
        "id": "Zyobjqg1v_UI"
      }
    },
    {
      "cell_type": "code",
      "source": [],
      "metadata": {
        "id": "-18GCLhewDE0"
      },
      "execution_count": null,
      "outputs": []
    }
  ]
}
